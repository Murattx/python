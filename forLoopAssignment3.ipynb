{
 "cells": [
  {
   "cell_type": "code",
   "execution_count": 3,
   "metadata": {},
   "outputs": [
    {
     "name": "stdout",
     "output_type": "stream",
     "text": [
      "The person is an adult.\n"
     ]
    }
   ],
   "source": [
    "# 3. Write an if-elif-else chain that determines a person’s stage of life.\n",
    "\n",
    "# Set a value for the variable age, and then:\n",
    "\n",
    "# 􏰀* If the person is less than 2 years old, print a message that the person is a baby.\n",
    "\n",
    "# *􏰀 If the person is at least 2 years old but less than 4, print a message that the person is a toddler.\n",
    "\n",
    "# *􏰀 If the person is at least 4 years old but less than 13, print a message that the person is a kid.\n",
    "\n",
    "# *􏰀 If the person is at least 13 years old but less than 20, print a message that the person is a teenager.\n",
    "\n",
    "# *􏰀 If the person is at least 20 years old but less than 65, print a message that the person is an adult.\n",
    "\n",
    "# *􏰀 If the person is age 65 or older, print a message that the person is an elder.\n",
    "\n",
    "\n",
    "age = int(input(\"Please enter an age to determine the stage of life\"))\n",
    "\n",
    "if age < 2:\n",
    "    print(\"The person is a baby.\")\n",
    "elif age >= 2 and age < 4:\n",
    "    print(\"The person is a toddler.\")\n",
    "elif age >= 4 and age < 13:\n",
    "    print(\"The person is a kid.\")\n",
    "elif age >= 13 and age < 20:\n",
    "    print(\"The person is a teenager.\")\n",
    "elif age >= 20 and age < 65:\n",
    "    print(\"The person is an adult.\")\n",
    "else:\n",
    "    print(\"The person is an elder.\")\n"
   ]
  }
 ],
 "metadata": {
  "kernelspec": {
   "display_name": "base",
   "language": "python",
   "name": "python3"
  },
  "language_info": {
   "codemirror_mode": {
    "name": "ipython",
    "version": 3
   },
   "file_extension": ".py",
   "mimetype": "text/x-python",
   "name": "python",
   "nbconvert_exporter": "python",
   "pygments_lexer": "ipython3",
   "version": "3.12.4"
  }
 },
 "nbformat": 4,
 "nbformat_minor": 2
}
