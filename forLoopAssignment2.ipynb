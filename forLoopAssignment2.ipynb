{
 "cells": [
  {
   "cell_type": "code",
   "execution_count": 27,
   "metadata": {},
   "outputs": [
    {
     "name": "stdout",
     "output_type": "stream",
     "text": [
      "0.14\n",
      "0.57\n"
     ]
    }
   ],
   "source": [
    "# You're playing a game with a friend involving a bag of marbles. In the bag are ten marbles:\n",
    "\n",
    "# 1 smooth red marble\n",
    "# 4 bumpy red marbles\n",
    "# 2 bumpy yellow marbles\n",
    "# 1 smooth yellow marble\n",
    "# 1 bumpy green marble\n",
    "# 1 smooth green marble\n",
    "\n",
    "# You can see that the probability of picking a smooth red marble from the bag is 1 / 10 or 0.10 and the probability of picking a bumpy yellow marble is 2 / 10 or 0.20.\n",
    "# The game works like this: your friend puts her hand in the bag, chooses a marble (without looking at it) and tells you whether it's bumpy or smooth. Then you have to guess which color it is before she pulls it out and reveals whether you're correct or not.\n",
    "# You know that the information about whether the marble is bumpy or smooth changes the probability of what color it is, and you want some help with your guesses.\n",
    "# Write a function color_probability that takes two arguments: a color ('red', 'yellow', or 'green') and a texture ('bumpy' or 'smooth') and returns the probability of drawing that combination as a decimal fraction accurate to two places.\n",
    "# The probability should be a string and should discard any digits after the 100ths place. For example, 2 / 3 or 0.6666666666666666 would become the string '0.66'. Note this is different from rounding.\n",
    "# As a complete example, color_probability('red', 'bumpy') should return the string '0.57'.\n",
    "    \n",
    "def color_probability(color, texture):\n",
    "    # Dictionary to count the number of each type of marble\n",
    "    marble_counts = {\n",
    "        'smooth': {'red': 1, 'yellow': 1, 'green': 1},\n",
    "        'bumpy': {'red': 4, 'yellow': 2, 'green': 1}\n",
    "    }\n",
    "    \n",
    "    total_marbles = 10\n",
    "   \n",
    "    texture_count = sum(marble_counts[texture].values())\n",
    "\n",
    "    color_texture_count = marble_counts[texture][color]\n",
    "    \n",
    "    probability = color_texture_count / texture_count\n",
    "\n",
    "    probability_str = f'{probability:.4f}'[:-2]\n",
    "\n",
    "    return probability_str\n",
    "\n",
    "print(color_probability('green', 'bumpy'))\n",
    "\n",
    "print(color_probability('red', 'bumpy'))"
   ]
  }
 ],
 "metadata": {
  "kernelspec": {
   "display_name": "base",
   "language": "python",
   "name": "python3"
  },
  "language_info": {
   "codemirror_mode": {
    "name": "ipython",
    "version": 3
   },
   "file_extension": ".py",
   "mimetype": "text/x-python",
   "name": "python",
   "nbconvert_exporter": "python",
   "pygments_lexer": "ipython3",
   "version": "3.12.4"
  }
 },
 "nbformat": 4,
 "nbformat_minor": 2
}
