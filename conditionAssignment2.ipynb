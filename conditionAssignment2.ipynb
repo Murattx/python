{
 "cells": [
  {
   "cell_type": "code",
   "execution_count": 4,
   "metadata": {},
   "outputs": [
    {
     "name": "stdout",
     "output_type": "stream",
     "text": [
      "the letter is a consonant\n"
     ]
    }
   ],
   "source": [
    "letter=input(\"Please enter a letter input :\")\n",
    "\n",
    "if letter==\"a\" or letter=='e' or letter=='i'or letter==\"o\" or letter==\"u\":\n",
    "    print(\"You entered a vowel\")\n",
    "elif letter==\"y\":\n",
    "    print (\"y is sometimes a vowel and sometimes a consonant\")\n",
    "else:\n",
    "    print (\"the letter is a consonant\")"
   ]
  }
 ],
 "metadata": {
  "kernelspec": {
   "display_name": "base",
   "language": "python",
   "name": "python3"
  },
  "language_info": {
   "codemirror_mode": {
    "name": "ipython",
    "version": 3
   },
   "file_extension": ".py",
   "mimetype": "text/x-python",
   "name": "python",
   "nbconvert_exporter": "python",
   "pygments_lexer": "ipython3",
   "version": "3.12.4"
  }
 },
 "nbformat": 4,
 "nbformat_minor": 2
}
