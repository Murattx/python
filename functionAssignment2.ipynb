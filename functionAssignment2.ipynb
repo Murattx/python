{
 "cells": [
  {
   "cell_type": "code",
   "execution_count": 18,
   "metadata": {},
   "outputs": [],
   "source": [
    "def celsius_to_romer(celsius):\n",
    "    romer = celsius * (21 / 40) + 7.5\n",
    "    return romer\n",
    "\n",
    "temperature_celsius = 24\n",
    "temperature_romer = celsius_to_romer(temperature_celsius)\n",
    "print(f\"{temperature_celsius} degrees Celsius is {temperature_romer} degrees Rømer.\")\n"
   ]
  }
 ],
 "metadata": {
  "kernelspec": {
   "display_name": "base",
   "language": "python",
   "name": "python3"
  },
  "language_info": {
   "codemirror_mode": {
    "name": "ipython",
    "version": 3
   },
   "file_extension": ".py",
   "mimetype": "text/x-python",
   "name": "python",
   "nbconvert_exporter": "python",
   "pygments_lexer": "ipython3",
   "version": "3.12.4"
  }
 },
 "nbformat": 4,
 "nbformat_minor": 2
}
