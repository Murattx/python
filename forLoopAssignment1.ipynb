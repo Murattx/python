{
 "cells": [
  {
   "cell_type": "code",
   "execution_count": 54,
   "metadata": {},
   "outputs": [
    {
     "name": "stdout",
     "output_type": "stream",
     "text": [
      "The username 'Jake' is available.\n",
      "The username 'Murat' is already taken. Please enter a new username.\n",
      "The username 'Adam' is available.\n",
      "The username 'Tim' is available.\n",
      "The username 'Duru' is already taken. Please enter a new username.\n"
     ]
    }
   ],
   "source": [
    "# 1. Do the following to create a program that simulates how websites ensure that everyone has a unique username.\n",
    "# Make a list of five or more usernames called current_users.\n",
    "# Make another list of five usernames called new_users. Make sure one or two of the new usernames are also in the current_users list.\n",
    "# Loop through the new_users list to see if each new username has already been used. \n",
    "# If it has, print a message that the person will need to enter a new username. \n",
    "# If a username has not been used, print a message saying that the username is available.\n",
    "# Make sure your comparison is case insensitive. If 'John' has been used, 'JOHN' should not be accepted.\n",
    "\n",
    "new_users=[\"Jake\",\"Murat\",\"Adam\",\"Tim\",\"Duru\"]\n",
    "\n",
    "current_users=[\"MURAT\",\"alya\",\"aras\",\"tuba\",\"DURU\"]\n",
    "\n",
    "current_users_lower = [user.lower() for user in current_users]\n",
    "\n",
    "\n",
    "for new in new_users:\n",
    "        if new.lower() in current_users_lower:\n",
    "            print(f\"The username '{new}' is already taken. Please enter a new username.\")\n",
    "        else:\n",
    "            print(f\"The username '{new}' is available.\")\n",
    "\n",
    "\n",
    "\n"
   ]
  }
 ],
 "metadata": {
  "kernelspec": {
   "display_name": "base",
   "language": "python",
   "name": "python3"
  },
  "language_info": {
   "codemirror_mode": {
    "name": "ipython",
    "version": 3
   },
   "file_extension": ".py",
   "mimetype": "text/x-python",
   "name": "python",
   "nbconvert_exporter": "python",
   "pygments_lexer": "ipython3",
   "version": "3.12.4"
  }
 },
 "nbformat": 4,
 "nbformat_minor": 2
}
