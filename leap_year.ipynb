{
 "cells": [
  {
   "cell_type": "code",
   "execution_count": 12,
   "metadata": {},
   "outputs": [
    {
     "name": "stdout",
     "output_type": "stream",
     "text": [
      "True\n"
     ]
    }
   ],
   "source": [
    "# - Find out if a given year is a \"leap\" year.\n",
    "\n",
    "#   - In the Gregorian calendar, three criteria must be taken into account to identify leap years:\n",
    "  \n",
    "#     - The year must be evenly divisible by 4;\n",
    "#     - If the year can also be evenly divided by 100, it is not a leap year; unless...(next one)\n",
    "#     - The year is also evenly divisible by 400. Then it is a leap year.\n",
    "\n",
    "# - According to these rules, the years 2000 and 2400 are leap years, while 1800, 1900, 2100, 2200, 2300, and 2500 are not the leap years.\n",
    "\n",
    "# - Write a Python program that;\n",
    "#   - Takes a 4-digit year from the user,\n",
    "#   - Prints `True` if the given year by the user is a leap year, prints `False` otherwise.\n",
    "  \n",
    "# > Note that; this question is famous on the web, so that do it yourself to get more benefits from it.\n",
    "\n",
    "leap_year=int(input(\"Please enter a year number\"))\n",
    "\n",
    "result=(leap_year%4==0) and ((leap_year%100!=0) or (leap_year%400==0))\n",
    "\n",
    "print(result)\n"
   ]
  }
 ],
 "metadata": {
  "kernelspec": {
   "display_name": "Python 3",
   "language": "python",
   "name": "python3"
  },
  "language_info": {
   "codemirror_mode": {
    "name": "ipython",
    "version": 3
   },
   "file_extension": ".py",
   "mimetype": "text/x-python",
   "name": "python",
   "nbconvert_exporter": "python",
   "pygments_lexer": "ipython3",
   "version": "3.12.4"
  }
 },
 "nbformat": 4,
 "nbformat_minor": 2
}
