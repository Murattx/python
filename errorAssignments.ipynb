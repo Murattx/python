{
 "cells": [
  {
   "cell_type": "code",
   "execution_count": 2,
   "metadata": {},
   "outputs": [
    {
     "name": "stdout",
     "output_type": "stream",
     "text": [
      "Error: division by zero\n"
     ]
    }
   ],
   "source": [
    "def divide_by_zero():\n",
    "    try:\n",
    "        numerator = 10\n",
    "        denominator = 0\n",
    "        result = numerator / denominator\n",
    "        return result\n",
    "    except ZeroDivisionError as e:\n",
    "        return f\"Error: {e}\"\n",
    "\n",
    "# Calling the function\n",
    "print(divide_by_zero())"
   ]
  },
  {
   "cell_type": "code",
   "execution_count": 7,
   "metadata": {},
   "outputs": [
    {
     "name": "stdout",
     "output_type": "stream",
     "text": [
      "NameError: name 'undefined_variable' is not defined\n"
     ]
    }
   ],
   "source": [
    "def multiple_exceptions_example():\n",
    "    try:\n",
    "        \n",
    "        # numerator = 10\n",
    "        # denominator = 0\n",
    "        # result = numerator / denominator  # ZeroDivisionError\n",
    "\n",
    "        result = undefined_variable  # NameError\n",
    "    except ZeroDivisionError as zde:\n",
    "        return f\"ZeroDivisionError: {zde}\"\n",
    "    except NameError as ne:\n",
    "        return f\"NameError: {ne}\"\n",
    "\n",
    "# Calling the function with different scenarios\n",
    "print(multiple_exceptions_example())"
   ]
  },
  {
   "cell_type": "code",
   "execution_count": 8,
   "metadata": {},
   "outputs": [
    {
     "name": "stdout",
     "output_type": "stream",
     "text": [
      "ValueError: invalid literal for int() with base 10: 'abc'\n"
     ]
    }
   ],
   "source": [
    "def generate_value_error():\n",
    "    try:\n",
    "        user_input = \"abc\"\n",
    "        numeric_value = int(user_input)\n",
    "        return numeric_value\n",
    "    except ValueError as ve:\n",
    "        return f\"ValueError: {ve}\"\n",
    "\n",
    "# Calling the function\n",
    "print(generate_value_error())"
   ]
  },
  {
   "cell_type": "code",
   "execution_count": 14,
   "metadata": {},
   "outputs": [
    {
     "name": "stdout",
     "output_type": "stream",
     "text": [
      "31.41592653589793\n",
      "Error: Invalid input for diameter. invalid literal for int() with base 10: 'abc'\n"
     ]
    }
   ],
   "source": [
    "import math\n",
    "\n",
    "def circumference(diameter):\n",
    "    try:\n",
    "        diameter = int(diameter)\n",
    "        # Calculate the circumference\n",
    "        circ = math.pi * diameter\n",
    "        return circ\n",
    "    except (ValueError, TypeError) as e:\n",
    "        # Handle cases where the input is not a valid number\n",
    "        return f\"Error: Invalid input for diameter. {e}\"\n",
    "\n",
    "print(circumference(10))\n",
    "print(circumference(\"abc\")) \n",
    "\n",
    "\n"
   ]
  }
 ],
 "metadata": {
  "kernelspec": {
   "display_name": "base",
   "language": "python",
   "name": "python3"
  },
  "language_info": {
   "codemirror_mode": {
    "name": "ipython",
    "version": 3
   },
   "file_extension": ".py",
   "mimetype": "text/x-python",
   "name": "python",
   "nbconvert_exporter": "python",
   "pygments_lexer": "ipython3",
   "version": "3.12.4"
  }
 },
 "nbformat": 4,
 "nbformat_minor": 2
}
