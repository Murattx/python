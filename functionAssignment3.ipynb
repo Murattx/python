{
 "cells": [
  {
   "cell_type": "code",
   "execution_count": null,
   "metadata": {},
   "outputs": [],
   "source": [
    "def is_divisible(wall_size, pixel_size):\n",
    "    return wall_size % pixel_size == 0\n",
    "\n",
    "print(is_divisible(4050, 27))"
   ]
  }
 ],
 "metadata": {
  "language_info": {
   "name": "python"
  }
 },
 "nbformat": 4,
 "nbformat_minor": 2
}
